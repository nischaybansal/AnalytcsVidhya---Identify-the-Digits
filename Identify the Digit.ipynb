{
 "cells": [
  {
   "cell_type": "code",
   "execution_count": 1,
   "metadata": {},
   "outputs": [
    {
     "name": "stderr",
     "output_type": "stream",
     "text": [
      "Using TensorFlow backend.\n"
     ]
    }
   ],
   "source": [
    "# Import the libraries\n",
    "\n",
    "import keras\n",
    "from keras.models import Sequential\n",
    "from keras.layers import Dense, Dropout, Flatten\n",
    "from keras.layers import Conv2D, MaxPooling2D\n",
    "from keras.utils import to_categorical\n",
    "from keras.preprocessing import image\n",
    "import numpy as np\n",
    "import pandas as pd\n",
    "import matplotlib.pyplot as plt\n",
    "from sklearn.model_selection import train_test_split\n",
    "from keras.utils import to_categorical\n",
    "from tqdm import tqdm"
   ]
  },
  {
   "cell_type": "code",
   "execution_count": 4,
   "metadata": {},
   "outputs": [
    {
     "data": {
      "text/html": [
       "<div>\n",
       "<style scoped>\n",
       "    .dataframe tbody tr th:only-of-type {\n",
       "        vertical-align: middle;\n",
       "    }\n",
       "\n",
       "    .dataframe tbody tr th {\n",
       "        vertical-align: top;\n",
       "    }\n",
       "\n",
       "    .dataframe thead th {\n",
       "        text-align: right;\n",
       "    }\n",
       "</style>\n",
       "<table border=\"1\" class=\"dataframe\">\n",
       "  <thead>\n",
       "    <tr style=\"text-align: right;\">\n",
       "      <th></th>\n",
       "      <th>filename</th>\n",
       "      <th>label</th>\n",
       "    </tr>\n",
       "  </thead>\n",
       "  <tbody>\n",
       "    <tr>\n",
       "      <th>0</th>\n",
       "      <td>0.png</td>\n",
       "      <td>4</td>\n",
       "    </tr>\n",
       "    <tr>\n",
       "      <th>1</th>\n",
       "      <td>1.png</td>\n",
       "      <td>9</td>\n",
       "    </tr>\n",
       "    <tr>\n",
       "      <th>2</th>\n",
       "      <td>2.png</td>\n",
       "      <td>1</td>\n",
       "    </tr>\n",
       "    <tr>\n",
       "      <th>3</th>\n",
       "      <td>3.png</td>\n",
       "      <td>7</td>\n",
       "    </tr>\n",
       "    <tr>\n",
       "      <th>4</th>\n",
       "      <td>4.png</td>\n",
       "      <td>3</td>\n",
       "    </tr>\n",
       "  </tbody>\n",
       "</table>\n",
       "</div>"
      ],
      "text/plain": [
       "  filename  label\n",
       "0    0.png      4\n",
       "1    1.png      9\n",
       "2    2.png      1\n",
       "3    3.png      7\n",
       "4    4.png      3"
      ]
     },
     "execution_count": 4,
     "metadata": {},
     "output_type": "execute_result"
    }
   ],
   "source": [
    "# Readinf our train dataset\n",
    "\n",
    "train = pd.read_csv('train.csv')\n",
    "train.head()\n"
   ]
  },
  {
   "cell_type": "code",
   "execution_count": 9,
   "metadata": {},
   "outputs": [
    {
     "name": "stderr",
     "output_type": "stream",
     "text": [
      "100%|██████████| 49000/49000 [01:30<00:00, 541.84it/s]\n"
     ]
    }
   ],
   "source": [
    "#we will read all the training images, store them in a list, and finally convert that list into a numpy array\n",
    "\n",
    "# We have grayscale images, so while loading the images we will keep grayscale=True, if you have RGB images, you should set grayscale as False\n",
    "train_image = []\n",
    "for i in tqdm(range(train.shape[0])):\n",
    "    img = image.load_img('train/'+train['filename'][i], target_size=(28,28,1), grayscale=True)\n",
    "    img = image.img_to_array(img)\n",
    "    img = img/255\n",
    "    train_image.append(img)\n",
    "X = np.array(train_image)"
   ]
  },
  {
   "cell_type": "code",
   "execution_count": 10,
   "metadata": {},
   "outputs": [],
   "source": [
    "# one-hot encode the target variable.\n",
    "\n",
    "y=train['label'].values\n",
    "y = to_categorical(y)"
   ]
  },
  {
   "cell_type": "code",
   "execution_count": 11,
   "metadata": {},
   "outputs": [],
   "source": [
    "# Splitting into train and validation \n",
    "\n",
    "X_train, X_test, y_train, y_test = train_test_split(X, y, random_state=42, test_size=0.2)"
   ]
  },
  {
   "cell_type": "code",
   "execution_count": 12,
   "metadata": {},
   "outputs": [],
   "source": [
    "# Create a simple architecture with 2 convolutional layers, one dense hidden layer and an output layer.\n",
    "\n",
    "model = Sequential()\n",
    "\n",
    "model.add(Conv2D(32, kernel_size=(3, 3),activation='relu',input_shape=(28,28,1)))\n",
    "model.add(Conv2D(64, (3, 3), activation='relu'))\n",
    "model.add(MaxPooling2D(pool_size=(2, 2)))\n",
    "model.add(Dropout(0.25))\n",
    "model.add(Flatten())\n",
    "model.add(Dense(128, activation='relu'))\n",
    "model.add(Dropout(0.5))\n",
    "model.add(Dense(10, activation='softmax'))"
   ]
  },
  {
   "cell_type": "code",
   "execution_count": 13,
   "metadata": {},
   "outputs": [],
   "source": [
    "# Complie and fit \n",
    "\n",
    "model.compile(loss='categorical_crossentropy',optimizer='Adam',metrics=['accuracy'])"
   ]
  },
  {
   "cell_type": "code",
   "execution_count": 14,
   "metadata": {},
   "outputs": [
    {
     "name": "stdout",
     "output_type": "stream",
     "text": [
      "Train on 39200 samples, validate on 9800 samples\n",
      "Epoch 1/10\n",
      "39200/39200 [==============================] - 140s 4ms/step - loss: 0.2373 - accuracy: 0.9267 - val_loss: 0.0695 - val_accuracy: 0.9806\n",
      "Epoch 2/10\n",
      "39200/39200 [==============================] - 135s 3ms/step - loss: 0.0941 - accuracy: 0.9718 - val_loss: 0.0567 - val_accuracy: 0.9840\n",
      "Epoch 3/10\n",
      "39200/39200 [==============================] - 133s 3ms/step - loss: 0.0707 - accuracy: 0.9775 - val_loss: 0.0481 - val_accuracy: 0.9860\n",
      "Epoch 4/10\n",
      "39200/39200 [==============================] - 132s 3ms/step - loss: 0.0550 - accuracy: 0.9828 - val_loss: 0.0428 - val_accuracy: 0.9877\n",
      "Epoch 5/10\n",
      "39200/39200 [==============================] - 129s 3ms/step - loss: 0.0480 - accuracy: 0.9848 - val_loss: 0.0418 - val_accuracy: 0.9887\n",
      "Epoch 6/10\n",
      "39200/39200 [==============================] - 129s 3ms/step - loss: 0.0420 - accuracy: 0.9864 - val_loss: 0.0399 - val_accuracy: 0.9890\n",
      "Epoch 7/10\n",
      "39200/39200 [==============================] - 132s 3ms/step - loss: 0.0357 - accuracy: 0.9889 - val_loss: 0.0473 - val_accuracy: 0.9885\n",
      "Epoch 8/10\n",
      "39200/39200 [==============================] - 135s 3ms/step - loss: 0.0332 - accuracy: 0.9893 - val_loss: 0.0401 - val_accuracy: 0.9892\n",
      "Epoch 9/10\n",
      "39200/39200 [==============================] - 135s 3ms/step - loss: 0.0300 - accuracy: 0.9908 - val_loss: 0.0439 - val_accuracy: 0.9892\n",
      "Epoch 10/10\n",
      "39200/39200 [==============================] - 136s 3ms/step - loss: 0.0274 - accuracy: 0.9909 - val_loss: 0.0452 - val_accuracy: 0.9891\n"
     ]
    },
    {
     "data": {
      "text/plain": [
       "<keras.callbacks.callbacks.History at 0x1a51e49940>"
      ]
     },
     "execution_count": 14,
     "metadata": {},
     "output_type": "execute_result"
    }
   ],
   "source": [
    "'''\n",
    "model.fit(X_train, y_train, epochs=10, validation_data=(X_test, y_test))"
   ]
  },
  {
   "cell_type": "code",
   "execution_count": 26,
   "metadata": {},
   "outputs": [
    {
     "name": "stdout",
     "output_type": "stream",
     "text": [
      "Train on 39200 samples, validate on 9800 samples\n",
      "Epoch 1/30\n",
      "39200/39200 [==============================] - 142s 4ms/step - loss: 0.0232 - accuracy: 0.9926 - val_loss: 0.0458 - val_accuracy: 0.9906\n",
      "Epoch 2/30\n",
      "39200/39200 [==============================] - 140s 4ms/step - loss: 0.0250 - accuracy: 0.9922 - val_loss: 0.0453 - val_accuracy: 0.9885\n",
      "Epoch 3/30\n",
      "39200/39200 [==============================] - 134s 3ms/step - loss: 0.0199 - accuracy: 0.9936 - val_loss: 0.0457 - val_accuracy: 0.9902\n",
      "Epoch 4/30\n",
      "39200/39200 [==============================] - 136s 3ms/step - loss: 0.0190 - accuracy: 0.9935 - val_loss: 0.0469 - val_accuracy: 0.9908\n",
      "Epoch 5/30\n",
      "39200/39200 [==============================] - 135s 3ms/step - loss: 0.0195 - accuracy: 0.9938 - val_loss: 0.0458 - val_accuracy: 0.9896\n",
      "Epoch 6/30\n",
      "39200/39200 [==============================] - 131s 3ms/step - loss: 0.0189 - accuracy: 0.9941 - val_loss: 0.0445 - val_accuracy: 0.9918\n",
      "Epoch 7/30\n",
      "39200/39200 [==============================] - 131s 3ms/step - loss: 0.0162 - accuracy: 0.9948 - val_loss: 0.0443 - val_accuracy: 0.9895\n",
      "Epoch 8/30\n",
      "39200/39200 [==============================] - 132s 3ms/step - loss: 0.0161 - accuracy: 0.9947 - val_loss: 0.0502 - val_accuracy: 0.9899\n",
      "Epoch 9/30\n",
      "39200/39200 [==============================] - 132s 3ms/step - loss: 0.0150 - accuracy: 0.9950 - val_loss: 0.0501 - val_accuracy: 0.9907\n",
      "Epoch 10/30\n",
      "39200/39200 [==============================] - 131s 3ms/step - loss: 0.0152 - accuracy: 0.9952 - val_loss: 0.0516 - val_accuracy: 0.9894\n",
      "Epoch 11/30\n",
      "39200/39200 [==============================] - 130s 3ms/step - loss: 0.0131 - accuracy: 0.9956 - val_loss: 0.0478 - val_accuracy: 0.9908\n",
      "Epoch 12/30\n",
      "39200/39200 [==============================] - 129s 3ms/step - loss: 0.0137 - accuracy: 0.9956 - val_loss: 0.0460 - val_accuracy: 0.9914\n",
      "Epoch 13/30\n",
      "39200/39200 [==============================] - 131s 3ms/step - loss: 0.0141 - accuracy: 0.9955 - val_loss: 0.0500 - val_accuracy: 0.9901\n",
      "Epoch 14/30\n",
      "39200/39200 [==============================] - 132s 3ms/step - loss: 0.0138 - accuracy: 0.9955 - val_loss: 0.0473 - val_accuracy: 0.9908\n",
      "Epoch 15/30\n",
      "39200/39200 [==============================] - 131s 3ms/step - loss: 0.0111 - accuracy: 0.9964 - val_loss: 0.0514 - val_accuracy: 0.9905\n",
      "Epoch 16/30\n",
      "39200/39200 [==============================] - 131s 3ms/step - loss: 0.0130 - accuracy: 0.9958 - val_loss: 0.0531 - val_accuracy: 0.9914\n",
      "Epoch 17/30\n",
      "39200/39200 [==============================] - 131s 3ms/step - loss: 0.0139 - accuracy: 0.9953 - val_loss: 0.0554 - val_accuracy: 0.9899\n",
      "Epoch 18/30\n",
      "39200/39200 [==============================] - 131s 3ms/step - loss: 0.0123 - accuracy: 0.9962 - val_loss: 0.0497 - val_accuracy: 0.9909\n",
      "Epoch 19/30\n",
      "39200/39200 [==============================] - 131s 3ms/step - loss: 0.0105 - accuracy: 0.9962 - val_loss: 0.0561 - val_accuracy: 0.9905\n",
      "Epoch 20/30\n",
      "39200/39200 [==============================] - 129s 3ms/step - loss: 0.0118 - accuracy: 0.9964 - val_loss: 0.0634 - val_accuracy: 0.9907\n",
      "Epoch 21/30\n",
      "39200/39200 [==============================] - 131s 3ms/step - loss: 0.0110 - accuracy: 0.9965 - val_loss: 0.0557 - val_accuracy: 0.9895\n",
      "Epoch 22/30\n",
      "39200/39200 [==============================] - 129s 3ms/step - loss: 0.0127 - accuracy: 0.9957 - val_loss: 0.0552 - val_accuracy: 0.9909\n",
      "Epoch 23/30\n",
      "39200/39200 [==============================] - 130s 3ms/step - loss: 0.0089 - accuracy: 0.9973 - val_loss: 0.0556 - val_accuracy: 0.9917\n",
      "Epoch 24/30\n",
      "39200/39200 [==============================] - 131s 3ms/step - loss: 0.0091 - accuracy: 0.9968 - val_loss: 0.0770 - val_accuracy: 0.9889\n",
      "Epoch 25/30\n",
      "39200/39200 [==============================] - 129s 3ms/step - loss: 0.0126 - accuracy: 0.9961 - val_loss: 0.0606 - val_accuracy: 0.9910\n",
      "Epoch 26/30\n",
      "39200/39200 [==============================] - 132s 3ms/step - loss: 0.0087 - accuracy: 0.9974 - val_loss: 0.0630 - val_accuracy: 0.9909\n",
      "Epoch 27/30\n",
      "39200/39200 [==============================] - 132s 3ms/step - loss: 0.0114 - accuracy: 0.9963 - val_loss: 0.0646 - val_accuracy: 0.9899\n",
      "Epoch 28/30\n",
      "39200/39200 [==============================] - 134s 3ms/step - loss: 0.0089 - accuracy: 0.9971 - val_loss: 0.0566 - val_accuracy: 0.9914\n",
      "Epoch 29/30\n",
      "39200/39200 [==============================] - 135s 3ms/step - loss: 0.0098 - accuracy: 0.9972 - val_loss: 0.0654 - val_accuracy: 0.9903\n",
      "Epoch 30/30\n",
      "39200/39200 [==============================] - 135s 3ms/step - loss: 0.0095 - accuracy: 0.9970 - val_loss: 0.0683 - val_accuracy: 0.9905\n"
     ]
    },
    {
     "data": {
      "text/plain": [
       "<keras.callbacks.callbacks.History at 0x1a52073c50>"
      ]
     },
     "execution_count": 26,
     "metadata": {},
     "output_type": "execute_result"
    }
   ],
   "source": [
    "# Increasing the number of epochs for better results\n",
    "model.fit(X_train, y_train, epochs=30, validation_data=(X_test, y_test))"
   ]
  },
  {
   "cell_type": "code",
   "execution_count": 41,
   "metadata": {},
   "outputs": [
    {
     "data": {
      "text/html": [
       "<div>\n",
       "<style scoped>\n",
       "    .dataframe tbody tr th:only-of-type {\n",
       "        vertical-align: middle;\n",
       "    }\n",
       "\n",
       "    .dataframe tbody tr th {\n",
       "        vertical-align: top;\n",
       "    }\n",
       "\n",
       "    .dataframe thead th {\n",
       "        text-align: right;\n",
       "    }\n",
       "</style>\n",
       "<table border=\"1\" class=\"dataframe\">\n",
       "  <thead>\n",
       "    <tr style=\"text-align: right;\">\n",
       "      <th></th>\n",
       "      <th>filename</th>\n",
       "    </tr>\n",
       "  </thead>\n",
       "  <tbody>\n",
       "    <tr>\n",
       "      <th>0</th>\n",
       "      <td>49000.png</td>\n",
       "    </tr>\n",
       "    <tr>\n",
       "      <th>1</th>\n",
       "      <td>49001.png</td>\n",
       "    </tr>\n",
       "    <tr>\n",
       "      <th>2</th>\n",
       "      <td>49002.png</td>\n",
       "    </tr>\n",
       "    <tr>\n",
       "      <th>3</th>\n",
       "      <td>49003.png</td>\n",
       "    </tr>\n",
       "    <tr>\n",
       "      <th>4</th>\n",
       "      <td>49004.png</td>\n",
       "    </tr>\n",
       "  </tbody>\n",
       "</table>\n",
       "</div>"
      ],
      "text/plain": [
       "    filename\n",
       "0  49000.png\n",
       "1  49001.png\n",
       "2  49002.png\n",
       "3  49003.png\n",
       "4  49004.png"
      ]
     },
     "execution_count": 41,
     "metadata": {},
     "output_type": "execute_result"
    }
   ],
   "source": [
    "test = pd.read_csv('test.csv')\n",
    "test.head()"
   ]
  },
  {
   "cell_type": "code",
   "execution_count": 34,
   "metadata": {
    "scrolled": true
   },
   "outputs": [
    {
     "name": "stderr",
     "output_type": "stream",
     "text": [
      "100%|██████████| 21000/21000 [00:40<00:00, 520.53it/s]\n"
     ]
    }
   ],
   "source": [
    "test_image = []\n",
    "for i in tqdm(range(test.shape[0])):\n",
    "    img = image.load_img('test/'+test['filename'][i], target_size=(28,28,1), grayscale=True)\n",
    "    img = image.img_to_array(img)\n",
    "    img = img/255\n",
    "    test_image.append(img)\n",
    "test = np.array(test_image)"
   ]
  },
  {
   "cell_type": "code",
   "execution_count": 35,
   "metadata": {},
   "outputs": [],
   "source": [
    "# making predictions\n",
    "\n",
    "prediction = model.predict_classes(test)"
   ]
  },
  {
   "cell_type": "code",
   "execution_count": 37,
   "metadata": {},
   "outputs": [
    {
     "data": {
      "text/html": [
       "<div>\n",
       "<style scoped>\n",
       "    .dataframe tbody tr th:only-of-type {\n",
       "        vertical-align: middle;\n",
       "    }\n",
       "\n",
       "    .dataframe tbody tr th {\n",
       "        vertical-align: top;\n",
       "    }\n",
       "\n",
       "    .dataframe thead th {\n",
       "        text-align: right;\n",
       "    }\n",
       "</style>\n",
       "<table border=\"1\" class=\"dataframe\">\n",
       "  <thead>\n",
       "    <tr style=\"text-align: right;\">\n",
       "      <th></th>\n",
       "      <th>filename</th>\n",
       "      <th>label</th>\n",
       "    </tr>\n",
       "  </thead>\n",
       "  <tbody>\n",
       "  </tbody>\n",
       "</table>\n",
       "</div>"
      ],
      "text/plain": [
       "Empty DataFrame\n",
       "Columns: [filename, label]\n",
       "Index: []"
      ]
     },
     "execution_count": 37,
     "metadata": {},
     "output_type": "execute_result"
    }
   ],
   "source": [
    "\n",
    "# creating submission file\n",
    "sample = pd.read_csv('sample_submission.csv')\n",
    "sample.head()\n",
    "\n",
    "\n"
   ]
  },
  {
   "cell_type": "code",
   "execution_count": 42,
   "metadata": {},
   "outputs": [],
   "source": [
    "sample['filename'] = test['filename']\n",
    "sample['label'] = prediction\n",
    "sample.to_csv('samplebase2.csv', header=True, index=False)"
   ]
  },
  {
   "cell_type": "code",
   "execution_count": null,
   "metadata": {},
   "outputs": [],
   "source": []
  }
 ],
 "metadata": {
  "kernelspec": {
   "display_name": "Python 3",
   "language": "python",
   "name": "python3"
  },
  "language_info": {
   "codemirror_mode": {
    "name": "ipython",
    "version": 3
   },
   "file_extension": ".py",
   "mimetype": "text/x-python",
   "name": "python",
   "nbconvert_exporter": "python",
   "pygments_lexer": "ipython3",
   "version": "3.7.3"
  }
 },
 "nbformat": 4,
 "nbformat_minor": 2
}
